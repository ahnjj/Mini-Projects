{
 "cells": [
  {
   "cell_type": "markdown",
   "id": "57f490ff",
   "metadata": {},
   "source": [
    "## NLP Practice : Regular Expressions\n",
    "\n",
    "### (1) Retrieve Email / Phone Number"
   ]
  },
  {
   "cell_type": "code",
   "execution_count": 21,
   "id": "2368086c",
   "metadata": {},
   "outputs": [],
   "source": [
    "import re"
   ]
  },
  {
   "cell_type": "code",
   "execution_count": 65,
   "id": "7515679f",
   "metadata": {},
   "outputs": [],
   "source": [
    "chat1 = 'codebasics: you ask lot of questions 😠  1235678912, abc@xyz.com'\n",
    "chat2 = 'codebasics: here it is: (123)-567-8912, abc@xyz.com'\n",
    "chat3 = 'codebasics: yes, phone: 1235678912 email: abc@xyz.com'"
   ]
  },
  {
   "cell_type": "markdown",
   "id": "99bca78f",
   "metadata": {},
   "source": [
    "#### Email"
   ]
  },
  {
   "cell_type": "code",
   "execution_count": 66,
   "id": "4e783f8d",
   "metadata": {},
   "outputs": [
    {
     "data": {
      "text/plain": [
       "'abc@xyz.com'"
      ]
     },
     "execution_count": 66,
     "metadata": {},
     "output_type": "execute_result"
    }
   ],
   "source": [
    "pattern = '[a-zA-Z0-9_]*@[a-z]*\\.[a-zA-Z0-9]*'\n",
    "matches = re.findall(pattern,chat1)\n",
    "email = matches[0]\n",
    "email"
   ]
  },
  {
   "cell_type": "markdown",
   "id": "532bfa50",
   "metadata": {},
   "source": [
    "#### Phone Number"
   ]
  },
  {
   "cell_type": "code",
   "execution_count": 10,
   "id": "0aef723b",
   "metadata": {},
   "outputs": [
    {
     "data": {
      "text/plain": [
       "'1235678912'"
      ]
     },
     "execution_count": 10,
     "metadata": {},
     "output_type": "execute_result"
    }
   ],
   "source": [
    "pattern = '\\d{10}|\\(\\d{3}\\)-\\d{3}-\\d{4}'\n",
    "\n",
    "matches = re.findall(pattern, chat1)\n",
    "phone = matches[0]\n",
    "phone"
   ]
  },
  {
   "cell_type": "markdown",
   "id": "1453e4b3",
   "metadata": {},
   "source": [
    "### (2) Retrieve Order Number"
   ]
  },
  {
   "cell_type": "code",
   "execution_count": 36,
   "id": "d1f685fd",
   "metadata": {},
   "outputs": [],
   "source": [
    "chat1='codebasics: Hello, I am having an issue with my order # 412889912'\n",
    "chat2='codebasics: I have a problem with my order number 412889912'\n",
    "chat3='codebasics: My order 412889912 is having an issue, I was charged 300$ when online it says 280$'"
   ]
  },
  {
   "cell_type": "code",
   "execution_count": 37,
   "id": "270e7eb1",
   "metadata": {},
   "outputs": [
    {
     "data": {
      "text/plain": [
       "'412889912'"
      ]
     },
     "execution_count": 37,
     "metadata": {},
     "output_type": "execute_result"
    }
   ],
   "source": [
    "pattern = 'order[^\\d]*(\\d*)'\n",
    "matches = re.findall(pattern,chat1)\n",
    "order = matches[0]\n",
    "order"
   ]
  },
  {
   "cell_type": "markdown",
   "id": "6138a5a1",
   "metadata": {},
   "source": [
    "### Wikipidia - Elon Musk"
   ]
  },
  {
   "cell_type": "code",
   "execution_count": 51,
   "id": "ffaf6b17",
   "metadata": {},
   "outputs": [],
   "source": [
    "text = \"\"\"Personal information\n",
    "Native name\t김연아\n",
    "Alternative names\tKim Yeon-a\n",
    "Country represented\t South Korea\n",
    "Born\tSeptember 5, 1990 (age 32)\n",
    "Bucheon, South Korea\n",
    "Residence\tSeoul, South Korea\n",
    "Spouse(s)\tKo Woo-rim ​(m. 2022)​\n",
    "Height\t1.64 m (5 ft 4+1⁄2 in)\n",
    "Former coach\t\n",
    "Shin Hea-sookRyu Jong-hyunPeter OppegardBrian OrserKim Se-yolChi Hyun-jung\n",
    "Former choreographer\t\n",
    "David WilsonSandra BezicTom DicksonBrian OrserJeffrey ButtleJadene FullenKim Se-yolCatarina LindgrenChi Hyun-jungGarnet\n",
    "Former skating club\t\n",
    "East West Ice PalaceToronto CSCC\n",
    "Began skating\t1996\n",
    "Retired\tFebruary 20, 2014\n",
    "ISU personal best scores\n",
    "Combined total\t228.56[1]\n",
    "2010 Winter Olympics\n",
    "Short program\t78.50[2]\n",
    "2010 Winter Olympics\n",
    "Free skate\t150.06[3]\n",
    "2010 Winter Olympics\n",
    "\"\"\""
   ]
  },
  {
   "cell_type": "markdown",
   "id": "9e39f6d3",
   "metadata": {},
   "source": [
    "#### Born place"
   ]
  },
  {
   "cell_type": "code",
   "execution_count": 52,
   "id": "0f1c89fe",
   "metadata": {},
   "outputs": [],
   "source": [
    "def get_pattern_match(pattern,text):\n",
    "    matches = re.findall(pattern, text)\n",
    "    if matches:\n",
    "        return matches[0]"
   ]
  },
  {
   "cell_type": "code",
   "execution_count": 53,
   "id": "bb9401fb",
   "metadata": {},
   "outputs": [
    {
     "data": {
      "text/plain": [
       "'Bucheon, South Korea'"
      ]
     },
     "execution_count": 53,
     "metadata": {},
     "output_type": "execute_result"
    }
   ],
   "source": [
    "get_pattern_match('\\(age.*\\n(.*)', text)"
   ]
  },
  {
   "cell_type": "code",
   "execution_count": 62,
   "id": "c094397b",
   "metadata": {},
   "outputs": [],
   "source": [
    "def get_personal_information(text):\n",
    "    age = get_pattern_match('age (\\d+)', text)\n",
    "    full_name = get_pattern_match('Born(.*)\\n', text)\n",
    "    birth_date = get_pattern_match('Born.(.*)\\(age',text)\n",
    "    birth_place = get_pattern_match('\\(age.*\\n(.*)',text)\n",
    "    \n",
    "    return {\n",
    "        'age' : int(age),\n",
    "        'name' : full_name.strip(),\n",
    "        'birth_date' : birth_date.strip(),\n",
    "        'birth_place' : birth_place.strip()\n",
    "    }"
   ]
  },
  {
   "cell_type": "code",
   "execution_count": 63,
   "id": "f14adb56",
   "metadata": {},
   "outputs": [
    {
     "data": {
      "text/plain": [
       "{'age': 32,\n",
       " 'name': 'September 5, 1990 (age 32)',\n",
       " 'birth_date': 'September 5, 1990',\n",
       " 'birth_place': 'Bucheon, South Korea'}"
      ]
     },
     "execution_count": 63,
     "metadata": {},
     "output_type": "execute_result"
    }
   ],
   "source": [
    "get_personal_information(text)"
   ]
  }
 ],
 "metadata": {
  "kernelspec": {
   "display_name": "Python 3 (ipykernel)",
   "language": "python",
   "name": "python3"
  },
  "language_info": {
   "codemirror_mode": {
    "name": "ipython",
    "version": 3
   },
   "file_extension": ".py",
   "mimetype": "text/x-python",
   "name": "python",
   "nbconvert_exporter": "python",
   "pygments_lexer": "ipython3",
   "version": "3.10.9"
  }
 },
 "nbformat": 4,
 "nbformat_minor": 5
}
