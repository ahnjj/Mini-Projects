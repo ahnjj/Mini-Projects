{
 "cells": [
  {
   "cell_type": "markdown",
   "id": "090dcedb",
   "metadata": {},
   "source": [
    "### Tokenization Spacy\n",
    "\n",
    "#### Pre-processing\n",
    "Sentence tokenization - word tokenization"
   ]
  },
  {
   "cell_type": "code",
   "execution_count": 2,
   "id": "2d5111b7",
   "metadata": {},
   "outputs": [],
   "source": [
    "import spacy"
   ]
  },
  {
   "cell_type": "code",
   "execution_count": 5,
   "id": "1b880707",
   "metadata": {},
   "outputs": [
    {
     "name": "stdout",
     "output_type": "stream",
     "text": [
      "\"\n",
      "Let\n",
      "'s\n",
      "go\n",
      "to\n",
      "N.Y\n",
      "!\n",
      "\"\n"
     ]
    }
   ],
   "source": [
    "doc = nlp('''\"Let's go to N.Y!\"''')\n",
    "\n",
    "for token in doc:\n",
    "    print(token)"
   ]
  },
  {
   "cell_type": "code",
   "execution_count": 8,
   "id": "cf471fe2",
   "metadata": {},
   "outputs": [
    {
     "name": "stdout",
     "output_type": "stream",
     "text": [
      "Dr.\n",
      "strange\n",
      "loves\n",
      "kimchi\n",
      "as\n",
      "it\n",
      "is\n",
      "healthy\n",
      ",\n",
      "costs\n",
      "like\n",
      "2\n",
      "$\n",
      "and\n",
      "yummy\n",
      ".\n"
     ]
    },
    {
     "data": {
      "text/plain": [
       "spacy.tokens.span.Span"
      ]
     },
     "execution_count": 8,
     "metadata": {},
     "output_type": "execute_result"
    }
   ],
   "source": [
    "nlp = spacy.blank('en') # english\n",
    "\n",
    "doc = nlp('Dr. strange loves kimchi as it is healthy, costs like 2$ and yummy.')\n",
    "\n",
    "# 2 / $ 따로따로\n",
    "for token in doc:\n",
    "    print(token)\n",
    "\n",
    "span = doc[1:5]\n",
    "type(span) # span class object"
   ]
  },
  {
   "cell_type": "code",
   "execution_count": 10,
   "id": "b8d5d44a",
   "metadata": {},
   "outputs": [
    {
     "data": {
      "text/plain": [
       "Dr."
      ]
     },
     "execution_count": 10,
     "metadata": {},
     "output_type": "execute_result"
    }
   ],
   "source": [
    "token0 = doc[0]\n",
    "token0"
   ]
  },
  {
   "cell_type": "code",
   "execution_count": 12,
   "id": "7680d1b3",
   "metadata": {},
   "outputs": [
    {
     "data": {
      "text/plain": [
       "spacy.tokens.token.Token"
      ]
     },
     "execution_count": 12,
     "metadata": {},
     "output_type": "execute_result"
    }
   ],
   "source": [
    "type(token0)"
   ]
  },
  {
   "cell_type": "code",
   "execution_count": 14,
   "id": "d578920c",
   "metadata": {},
   "outputs": [
    {
     "data": {
      "text/plain": [
       "False"
      ]
     },
     "execution_count": 14,
     "metadata": {},
     "output_type": "execute_result"
    }
   ],
   "source": [
    "token0.like_num"
   ]
  },
  {
   "cell_type": "code",
   "execution_count": 18,
   "id": "43224448",
   "metadata": {},
   "outputs": [
    {
     "data": {
      "text/plain": [
       "'2'"
      ]
     },
     "execution_count": 18,
     "metadata": {},
     "output_type": "execute_result"
    }
   ],
   "source": [
    "token2 = doc[11]\n",
    "token2.text"
   ]
  },
  {
   "cell_type": "code",
   "execution_count": 20,
   "id": "c9b86b76",
   "metadata": {},
   "outputs": [
    {
     "data": {
      "text/plain": [
       "True"
      ]
     },
     "execution_count": 20,
     "metadata": {},
     "output_type": "execute_result"
    }
   ],
   "source": [
    "token2.like_num # token 이 숫자일 경우 인식한다."
   ]
  },
  {
   "cell_type": "code",
   "execution_count": 22,
   "id": "614d3e2c",
   "metadata": {},
   "outputs": [
    {
     "data": {
      "text/plain": [
       "True"
      ]
     },
     "execution_count": 22,
     "metadata": {},
     "output_type": "execute_result"
    }
   ],
   "source": [
    "token3 = doc[12] # $\n",
    "token3.is_currency # currency 인식"
   ]
  },
  {
   "cell_type": "code",
   "execution_count": null,
   "id": "adcf0e1f",
   "metadata": {},
   "outputs": [],
   "source": [
    "for token in doc:\n",
    "    print(token, \"==>\", \"index: \", token.i,)"
   ]
  }
 ],
 "metadata": {
  "kernelspec": {
   "display_name": "Python 3 (ipykernel)",
   "language": "python",
   "name": "python3"
  },
  "language_info": {
   "codemirror_mode": {
    "name": "ipython",
    "version": 3
   },
   "file_extension": ".py",
   "mimetype": "text/x-python",
   "name": "python",
   "nbconvert_exporter": "python",
   "pygments_lexer": "ipython3",
   "version": "3.10.9"
  }
 },
 "nbformat": 4,
 "nbformat_minor": 5
}
