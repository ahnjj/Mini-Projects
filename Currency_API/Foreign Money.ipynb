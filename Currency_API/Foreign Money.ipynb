{
 "cells": [
  {
   "cell_type": "code",
   "execution_count": null,
   "id": "1161981a",
   "metadata": {
    "scrolled": true
   },
   "outputs": [],
   "source": [
    "# url 에서 데이터를 가져와 JSON으로 반환\n",
    "import json, requests\n",
    "from datetime import date\n",
    "import pandas as pd\n",
    "authkey = '7C2WbdJeR4Jugo687WwfvKNckPyU5HdD'\n",
    "\n",
    "url = requests.get(f'https://www.koreaexim.go.kr/site/program/financial/exchangeJSON?authkey={authkey}&searchdate=20230802&data=AP01')\n",
    "\n",
    "data = url.json()\n",
    "# 전체 표 보여주기\n",
    "summary = pd.DataFrame(data)\n",
    "summary\n"
   ]
  },
  {
   "cell_type": "code",
   "execution_count": null,
   "id": "b5af2901",
   "metadata": {},
   "outputs": [],
   "source": [
    "# 나라, 단위\n",
    "country_info = [(data[i]['cur_nm'].split()[0], data[i]['cur_nm'].split()[-1]) for i in range(len(data))] \n",
    "\n",
    "# 송금 받을 때 보낼때 환율\n",
    "receive = { country_info[i][0] : data[i]['ttb'] for i in range(len(data))}\n",
    "send = { country_info[i] : data[i]['tts'] for i in range(len(data))}\n",
    "\n",
    "# 맨처음에 검색 가능한 나라/통화 띄워주기 \n",
    "ctr = pd.DataFrame(country_info)\n",
    "ctr\n",
    "# 테스트\n",
    "country = '코알라'\n",
    "for i in country_info:\n",
    "    if country in i[0] or country in i[-1]:\n",
    "        continue\n",
    "else:\n",
    "    print('The country you are searching is not available in our bank, sorry')\n",
    "country_info"
   ]
  },
  {
   "cell_type": "code",
   "execution_count": null,
   "id": "f3e8afa7",
   "metadata": {},
   "outputs": [
    {
     "name": "stdout",
     "output_type": "stream",
     "text": [
      "May I help you? (receive foreign money :1 / send foreign money :2 / End : 0)1\n",
      "Input the country name or currency: (Europe : 유로 / China : 위안화)일본\n",
      "The country you are searching is not available in our bank, sorry\n"
     ]
    }
   ],
   "source": [
    "# User input\n",
    "# 중국의 경우 '위안화' 로 검색, 유럽지역은 '유로'로 검색 , 덴마크는 덴마아크로 검색\n",
    "while 1:\n",
    "    mode = int(input('May I help you? (receive foreign money :1 / send foreign money :2 / End : 0)'))\n",
    "    if mode == 0:\n",
    "        print('Hope to see you soon! Bye')\n",
    "        break\n",
    "        \n",
    "    country = input('Input the country name or currency: (Europe : 유로 / China : 위안화)')  # 국가/ 단위 둘다 접근 가능하게 처리 해야겠다.\n",
    "\n",
    "    for i in country_info:\n",
    "        if country in i[0] or country in i[-1]:\n",
    "            continue\n",
    "    else:\n",
    "        print('The country you are searching is not available in our bank, sorry')\n",
    "\n",
    "    if mode == 1: # receive : ttb\n",
    "        money = int(input('How much money are you going to receive? '))\n",
    "        print()\n",
    "        r_money = float(receive[country])*money\n",
    "        print(f'You will receive : {r_money} in Korean currency.')\n",
    "    elif mode == 2: # send : tts\n",
    "        money = int(input('How much money are you going to send?(KRW) '))\n",
    "        print()\n",
    "        r_money = float(send[country])*money\n",
    "        print(f'You will send {r_money}{country_info[country][-1]}.')\n",
    "    else:\n",
    "        print('You put the wrong number... ')"
   ]
  }
 ],
 "metadata": {
  "kernelspec": {
   "display_name": "Python 3 (ipykernel)",
   "language": "python",
   "name": "python3"
  },
  "language_info": {
   "codemirror_mode": {
    "name": "ipython",
    "version": 3
   },
   "file_extension": ".py",
   "mimetype": "text/x-python",
   "name": "python",
   "nbconvert_exporter": "python",
   "pygments_lexer": "ipython3",
   "version": "3.10.9"
  }
 },
 "nbformat": 4,
 "nbformat_minor": 5
}
